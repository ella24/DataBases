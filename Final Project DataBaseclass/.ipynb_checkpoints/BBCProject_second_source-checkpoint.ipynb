{
 "cells": [
  {
   "cell_type": "markdown",
   "metadata": {},
   "source": [
    "# Latin critics choices for best movies of the century \n",
    "This article -http://www.latimes.com/entertainment/movies/la-et-mn-film-criticism-diversity-20180620-story.html- was published a day before the professor announced the topics of the guided projects. It a certain way it inspired me to choose the BBC one because as a Latina/Puerto Rican I have always felt underrepresented in the cinema industry. \n",
    "\n",
    "Just by reading the BBC list of critics I noticed that there were less than 20 Latin American critics in the sample and that there were just about two movie titles in Spanish. Therefore, I decided to keep digging up and the research question that I decided to work with were:\n",
    "\n",
    "-Does Latin American critics choose movies of their region as the best ones?\n",
    "\n",
    "-Are they Spanish speaking movies?\n",
    "\n",
    "-Does Latin American critics choose movies that have received international and local awards (from their home country)?\n",
    "\n",
    "From this point I decided to scrape the IMDB website with Selenium to get the directors country. However, I encounter a lot of issues. "
   ]
  },
  {
   "cell_type": "code",
   "execution_count": 9,
   "metadata": {},
   "outputs": [],
   "source": [
    "from selenium import webdriver\n",
    "from selenium.webdriver.common.keys import Keys\n",
    "from selenium.webdriver.support.ui import Select\n",
    "from selenium.webdriver.support.ui import WebDriverWait"
   ]
  },
  {
   "cell_type": "code",
   "execution_count": 10,
   "metadata": {},
   "outputs": [],
   "source": [
    "import pandas as pd\n",
    "driver= webdriver.Chrome()\n",
    "url= 'https://www.imdb.com/'\n",
    "driver.get(url)"
   ]
  },
  {
   "cell_type": "code",
   "execution_count": 11,
   "metadata": {},
   "outputs": [],
   "source": [
    "dir_list= ['Wong Kar-wai', 'David Lynch', 'Christopher Nolan',\n",
    "       'Guillermo Del Toro', 'Michael Haneke', 'Werner Herzog',\n",
    "       'Cristian Mungiu', 'Leos Carax', 'Claude Lanzmann',\n",
    "       'Paul Thomas Anderson', 'Alfonso Cuarón',\n",
    "       'Fernando Meirelles', 'Kátia Lund', 'Brad Bird',\n",
    "       'Alejandro González Iñárritu', 'Joel and Ethan Coen', 'Ang Lee',\n",
    "       'Andrew Stanton', 'Hayao Miyazaki', 'Richard Linklater',\n",
    "       'Nanni Moretti', 'Mariano Llinás', 'David Fincher', 'Gus Van Sant',\n",
    "       'Apichatpong Weerasethakul', 'Kim Ki-duk', 'Lars von Trier',\n",
    "       'Aleksandr Sokurov', 'Jacques Audiard', 'Pete Docter',\n",
    "       'Juan José Campanella', 'Michel Gondry',\n",
    "       'Brad Bird and Jan Pinkava', 'Sarah Polley', 'Asghar Farhadi',\n",
    "       'Steven Spielberg', 'Baz Luhrmann', 'Roy Andersson',\n",
    "       'Joshua Oppenheimer', 'Yorgos Lanthimos', 'Andrzej Wajda',\n",
    "       'Ari Folman', 'Park Chan-wook', 'Charlie Kaufman',\n",
    "       'Clint Eastwood', 'Fabián Bielinsky', 'Hong Sang-soo',\n",
    "       'Lee Unkrich', 'George Miller', 'Greg Mottola', 'Kevin Costner',\n",
    "       'Denis Villeneuve', 'Pablo Larraín', 'Richard Kelly',\n",
    "       'Damien Chazelle', 'László Nemes',\n",
    "       'Florian Henckel von Donnersmarck', 'Noah Baumbach',\n",
    "       'Lucrecia Martel', 'Víctor Gaviria', 'Agnès Varda',\n",
    "       'Andrey Zvyagintsev', 'Philippe Garrel', 'Jonathan Glazer',\n",
    "       'Jean-Charles Fitoussi', 'David Cronenberg', 'Pedro Almodóvar',\n",
    "       'Todd Haynes', 'Jean-Pierre and Luc Dardenne', 'Carlos Reygadas',\n",
    "       'Martin Scorsese', 'Roman Polanski', 'Sidney Lumet', 'Woody Allen',\n",
    "       'Jean-Luc Godard', 'Pedro Costa', 'Béla Tarr and Ágnes Hranitzky',\n",
    "       'Miguel Gomes', 'Ben Rivers', 'Lav Diaz', 'Pietro Marcello',\n",
    "       'Julian Schnabel', 'Abdellatif Kechiche', 'Tomas Alfredson',\n",
    "       'Neill Blomkamp', 'Kathryn Bigelow', 'Fatih Akin',\n",
    "       'Wolfgang Becker', 'Paweł Pawlikowski', 'Hirokazu Koreeda']"
   ]
  },
  {
   "cell_type": "code",
   "execution_count": 12,
   "metadata": {},
   "outputs": [],
   "source": [
    "find_director= driver.find_element_by_name('q')\n",
    "find_director.send_keys('Wong Kar-wai')\n",
    "box= driver.find_element_by_class_name('quicksearch_dropdown_wrapper')\n",
    "box.click()\n",
    "from selenium.webdriver.support.ui import Select\n",
    "selection= Select(driver.find_element_by_id('quicksearch'))\n",
    "selection.select_by_visible_text('Names')\n",
    "search_button = driver.find_element_by_id('navbar-submit-button')\n",
    "search_button.click()"
   ]
  },
  {
   "cell_type": "code",
   "execution_count": 13,
   "metadata": {},
   "outputs": [],
   "source": [
    "choosing=driver.find_element_by_xpath('//*[@id=\"main\"]/div/div[2]/table/tbody/tr/td[2]/a')\n",
    "choosing.click()"
   ]
  },
  {
   "cell_type": "code",
   "execution_count": 14,
   "metadata": {},
   "outputs": [
    {
     "data": {
      "text/plain": [
       "'Shanghai, China'"
      ]
     },
     "execution_count": 14,
     "metadata": {},
     "output_type": "execute_result"
    }
   ],
   "source": [
    "dir_country = driver.find_element_by_id('name-born-info').find_elements_by_tag_name('a')[2].text\n",
    "dir_country"
   ]
  },
  {
   "cell_type": "code",
   "execution_count": 15,
   "metadata": {},
   "outputs": [
    {
     "name": "stdout",
     "output_type": "stream",
     "text": [
      "Shanghai, China\n",
      "Missoula, Montana, USA\n",
      "London, England, UK\n",
      "Guadalajara, Jalisco, Mexico\n",
      "Munich, Bavaria, Germany\n",
      "Munich, Bavaria, Germany\n",
      "Iasi, Romania\n",
      "Suresnes, Seine [now Hauts-de-Seine], France\n",
      "Paris, France\n",
      "Studio City, California, USA\n",
      "Boston, Massachusetts, USA\n",
      "Tokyo, Japan\n",
      "Houston, Texas, USA\n",
      "Brunico, Trentino-Alto Adige, Italy\n",
      "Denver, Colorado, USA\n",
      "Louisville, Kentucky, USA\n",
      "Bangkok, Thailand\n",
      "Bangkok, Thailand\n",
      "Copenhagen, Denmark\n",
      "Podorvikha, Irkutskaya oblast, RSFSR, USSR [now Russia]\n"
     ]
    },
    {
     "ename": "NoSuchElementException",
     "evalue": "Message: no such element: Unable to locate element: {\"method\":\"xpath\",\"selector\":\"//*[@id=\"main\"]/div/div[2]/table/tbody/tr/td[2]/a\"}\n  (Session info: chrome=67.0.3396.99)\n  (Driver info: chromedriver=2.40.565498 (ea082db3280dd6843ebfb08a625e3eb905c4f5ab),platform=Windows NT 10.0.17134 x86_64)\n",
     "output_type": "error",
     "traceback": [
      "\u001b[1;31m---------------------------------------------------------------------------\u001b[0m",
      "\u001b[1;31mNoSuchElementException\u001b[0m                    Traceback (most recent call last)",
      "\u001b[1;32m<ipython-input-15-956263c0e18a>\u001b[0m in \u001b[0;36m<module>\u001b[1;34m()\u001b[0m\n\u001b[0;32m      4\u001b[0m     \u001b[0mSelect\u001b[0m\u001b[1;33m(\u001b[0m\u001b[0mdriver\u001b[0m\u001b[1;33m.\u001b[0m\u001b[0mfind_element_by_id\u001b[0m\u001b[1;33m(\u001b[0m\u001b[1;34m'quicksearch'\u001b[0m\u001b[1;33m)\u001b[0m\u001b[1;33m)\u001b[0m\u001b[1;33m.\u001b[0m\u001b[0mselect_by_visible_text\u001b[0m\u001b[1;33m(\u001b[0m\u001b[1;34m'All'\u001b[0m\u001b[1;33m)\u001b[0m\u001b[1;33m\u001b[0m\u001b[0m\n\u001b[0;32m      5\u001b[0m     \u001b[0mdriver\u001b[0m\u001b[1;33m.\u001b[0m\u001b[0mfind_element_by_id\u001b[0m\u001b[1;33m(\u001b[0m\u001b[1;34m'navbar-submit-button'\u001b[0m\u001b[1;33m)\u001b[0m\u001b[1;33m.\u001b[0m\u001b[0mclick\u001b[0m\u001b[1;33m(\u001b[0m\u001b[1;33m)\u001b[0m\u001b[1;33m\u001b[0m\u001b[0m\n\u001b[1;32m----> 6\u001b[1;33m     \u001b[0mchoosing\u001b[0m\u001b[1;33m=\u001b[0m\u001b[0mdriver\u001b[0m\u001b[1;33m.\u001b[0m\u001b[0mfind_element_by_xpath\u001b[0m\u001b[1;33m(\u001b[0m\u001b[1;34m'//*[@id=\"main\"]/div/div[2]/table/tbody/tr/td[2]/a'\u001b[0m\u001b[1;33m)\u001b[0m\u001b[1;33m\u001b[0m\u001b[0m\n\u001b[0m\u001b[0;32m      7\u001b[0m     \u001b[0mchoosing\u001b[0m\u001b[1;33m.\u001b[0m\u001b[0mclick\u001b[0m\u001b[1;33m(\u001b[0m\u001b[1;33m)\u001b[0m\u001b[1;33m\u001b[0m\u001b[0m\n\u001b[0;32m      8\u001b[0m     \u001b[1;32mtry\u001b[0m\u001b[1;33m:\u001b[0m\u001b[1;33m\u001b[0m\u001b[0m\n",
      "\u001b[1;32m~\\AppData\\Local\\Programs\\Python\\Python36-32\\lib\\site-packages\\selenium\\webdriver\\remote\\webdriver.py\u001b[0m in \u001b[0;36mfind_element_by_xpath\u001b[1;34m(self, xpath)\u001b[0m\n\u001b[0;32m    385\u001b[0m             \u001b[0melement\u001b[0m \u001b[1;33m=\u001b[0m \u001b[0mdriver\u001b[0m\u001b[1;33m.\u001b[0m\u001b[0mfind_element_by_xpath\u001b[0m\u001b[1;33m(\u001b[0m\u001b[1;34m'//div/td[1]'\u001b[0m\u001b[1;33m)\u001b[0m\u001b[1;33m\u001b[0m\u001b[0m\n\u001b[0;32m    386\u001b[0m         \"\"\"\n\u001b[1;32m--> 387\u001b[1;33m         \u001b[1;32mreturn\u001b[0m \u001b[0mself\u001b[0m\u001b[1;33m.\u001b[0m\u001b[0mfind_element\u001b[0m\u001b[1;33m(\u001b[0m\u001b[0mby\u001b[0m\u001b[1;33m=\u001b[0m\u001b[0mBy\u001b[0m\u001b[1;33m.\u001b[0m\u001b[0mXPATH\u001b[0m\u001b[1;33m,\u001b[0m \u001b[0mvalue\u001b[0m\u001b[1;33m=\u001b[0m\u001b[0mxpath\u001b[0m\u001b[1;33m)\u001b[0m\u001b[1;33m\u001b[0m\u001b[0m\n\u001b[0m\u001b[0;32m    388\u001b[0m \u001b[1;33m\u001b[0m\u001b[0m\n\u001b[0;32m    389\u001b[0m     \u001b[1;32mdef\u001b[0m \u001b[0mfind_elements_by_xpath\u001b[0m\u001b[1;33m(\u001b[0m\u001b[0mself\u001b[0m\u001b[1;33m,\u001b[0m \u001b[0mxpath\u001b[0m\u001b[1;33m)\u001b[0m\u001b[1;33m:\u001b[0m\u001b[1;33m\u001b[0m\u001b[0m\n",
      "\u001b[1;32m~\\AppData\\Local\\Programs\\Python\\Python36-32\\lib\\site-packages\\selenium\\webdriver\\remote\\webdriver.py\u001b[0m in \u001b[0;36mfind_element\u001b[1;34m(self, by, value)\u001b[0m\n\u001b[0;32m    955\u001b[0m         return self.execute(Command.FIND_ELEMENT, {\n\u001b[0;32m    956\u001b[0m             \u001b[1;34m'using'\u001b[0m\u001b[1;33m:\u001b[0m \u001b[0mby\u001b[0m\u001b[1;33m,\u001b[0m\u001b[1;33m\u001b[0m\u001b[0m\n\u001b[1;32m--> 957\u001b[1;33m             'value': value})['value']\n\u001b[0m\u001b[0;32m    958\u001b[0m \u001b[1;33m\u001b[0m\u001b[0m\n\u001b[0;32m    959\u001b[0m     \u001b[1;32mdef\u001b[0m \u001b[0mfind_elements\u001b[0m\u001b[1;33m(\u001b[0m\u001b[0mself\u001b[0m\u001b[1;33m,\u001b[0m \u001b[0mby\u001b[0m\u001b[1;33m=\u001b[0m\u001b[0mBy\u001b[0m\u001b[1;33m.\u001b[0m\u001b[0mID\u001b[0m\u001b[1;33m,\u001b[0m \u001b[0mvalue\u001b[0m\u001b[1;33m=\u001b[0m\u001b[1;32mNone\u001b[0m\u001b[1;33m)\u001b[0m\u001b[1;33m:\u001b[0m\u001b[1;33m\u001b[0m\u001b[0m\n",
      "\u001b[1;32m~\\AppData\\Local\\Programs\\Python\\Python36-32\\lib\\site-packages\\selenium\\webdriver\\remote\\webdriver.py\u001b[0m in \u001b[0;36mexecute\u001b[1;34m(self, driver_command, params)\u001b[0m\n\u001b[0;32m    312\u001b[0m         \u001b[0mresponse\u001b[0m \u001b[1;33m=\u001b[0m \u001b[0mself\u001b[0m\u001b[1;33m.\u001b[0m\u001b[0mcommand_executor\u001b[0m\u001b[1;33m.\u001b[0m\u001b[0mexecute\u001b[0m\u001b[1;33m(\u001b[0m\u001b[0mdriver_command\u001b[0m\u001b[1;33m,\u001b[0m \u001b[0mparams\u001b[0m\u001b[1;33m)\u001b[0m\u001b[1;33m\u001b[0m\u001b[0m\n\u001b[0;32m    313\u001b[0m         \u001b[1;32mif\u001b[0m \u001b[0mresponse\u001b[0m\u001b[1;33m:\u001b[0m\u001b[1;33m\u001b[0m\u001b[0m\n\u001b[1;32m--> 314\u001b[1;33m             \u001b[0mself\u001b[0m\u001b[1;33m.\u001b[0m\u001b[0merror_handler\u001b[0m\u001b[1;33m.\u001b[0m\u001b[0mcheck_response\u001b[0m\u001b[1;33m(\u001b[0m\u001b[0mresponse\u001b[0m\u001b[1;33m)\u001b[0m\u001b[1;33m\u001b[0m\u001b[0m\n\u001b[0m\u001b[0;32m    315\u001b[0m             response['value'] = self._unwrap_value(\n\u001b[0;32m    316\u001b[0m                 response.get('value', None))\n",
      "\u001b[1;32m~\\AppData\\Local\\Programs\\Python\\Python36-32\\lib\\site-packages\\selenium\\webdriver\\remote\\errorhandler.py\u001b[0m in \u001b[0;36mcheck_response\u001b[1;34m(self, response)\u001b[0m\n\u001b[0;32m    240\u001b[0m                 \u001b[0malert_text\u001b[0m \u001b[1;33m=\u001b[0m \u001b[0mvalue\u001b[0m\u001b[1;33m[\u001b[0m\u001b[1;34m'alert'\u001b[0m\u001b[1;33m]\u001b[0m\u001b[1;33m.\u001b[0m\u001b[0mget\u001b[0m\u001b[1;33m(\u001b[0m\u001b[1;34m'text'\u001b[0m\u001b[1;33m)\u001b[0m\u001b[1;33m\u001b[0m\u001b[0m\n\u001b[0;32m    241\u001b[0m             \u001b[1;32mraise\u001b[0m \u001b[0mexception_class\u001b[0m\u001b[1;33m(\u001b[0m\u001b[0mmessage\u001b[0m\u001b[1;33m,\u001b[0m \u001b[0mscreen\u001b[0m\u001b[1;33m,\u001b[0m \u001b[0mstacktrace\u001b[0m\u001b[1;33m,\u001b[0m \u001b[0malert_text\u001b[0m\u001b[1;33m)\u001b[0m\u001b[1;33m\u001b[0m\u001b[0m\n\u001b[1;32m--> 242\u001b[1;33m         \u001b[1;32mraise\u001b[0m \u001b[0mexception_class\u001b[0m\u001b[1;33m(\u001b[0m\u001b[0mmessage\u001b[0m\u001b[1;33m,\u001b[0m \u001b[0mscreen\u001b[0m\u001b[1;33m,\u001b[0m \u001b[0mstacktrace\u001b[0m\u001b[1;33m)\u001b[0m\u001b[1;33m\u001b[0m\u001b[0m\n\u001b[0m\u001b[0;32m    243\u001b[0m \u001b[1;33m\u001b[0m\u001b[0m\n\u001b[0;32m    244\u001b[0m     \u001b[1;32mdef\u001b[0m \u001b[0m_value_or_default\u001b[0m\u001b[1;33m(\u001b[0m\u001b[0mself\u001b[0m\u001b[1;33m,\u001b[0m \u001b[0mobj\u001b[0m\u001b[1;33m,\u001b[0m \u001b[0mkey\u001b[0m\u001b[1;33m,\u001b[0m \u001b[0mdefault\u001b[0m\u001b[1;33m)\u001b[0m\u001b[1;33m:\u001b[0m\u001b[1;33m\u001b[0m\u001b[0m\n",
      "\u001b[1;31mNoSuchElementException\u001b[0m: Message: no such element: Unable to locate element: {\"method\":\"xpath\",\"selector\":\"//*[@id=\"main\"]/div/div[2]/table/tbody/tr/td[2]/a\"}\n  (Session info: chrome=67.0.3396.99)\n  (Driver info: chromedriver=2.40.565498 (ea082db3280dd6843ebfb08a625e3eb905c4f5ab),platform=Windows NT 10.0.17134 x86_64)\n"
     ]
    }
   ],
   "source": [
    "for director in dir_list:\n",
    "    driver.find_element_by_name('q').send_keys(director)\n",
    "    driver.find_element_by_class_name('quicksearch_dropdown_wrapper').click()\n",
    "    Select(driver.find_element_by_id('quicksearch')).select_by_visible_text('All')\n",
    "    driver.find_element_by_id('navbar-submit-button').click()\n",
    "    choosing=driver.find_element_by_xpath('//*[@id=\"main\"]/div/div[2]/table/tbody/tr/td[2]/a')\n",
    "    choosing.click()\n",
    "    try:\n",
    "        dir_country = driver.find_element_by_id('name-born-info').find_elements_by_tag_name('a')[2].text\n",
    "    except:\n",
    "        pass\n",
    "    print(dir_country)"
   ]
  },
  {
   "cell_type": "markdown",
   "metadata": {},
   "source": [
    "In the next Jupyter notebook there are the others steps. "
   ]
  }
 ],
 "metadata": {
  "kernelspec": {
   "display_name": "Python 3",
   "language": "python",
   "name": "python3"
  },
  "language_info": {
   "codemirror_mode": {
    "name": "ipython",
    "version": 3
   },
   "file_extension": ".py",
   "mimetype": "text/x-python",
   "name": "python",
   "nbconvert_exporter": "python",
   "pygments_lexer": "ipython3",
   "version": "3.6.5"
  }
 },
 "nbformat": 4,
 "nbformat_minor": 2
}
